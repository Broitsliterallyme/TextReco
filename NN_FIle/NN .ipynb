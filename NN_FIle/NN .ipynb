{
 "cells": [
  {
   "cell_type": "code",
   "execution_count": 1,
   "id": "379433bc-8af9-4435-b4c4-c1dafe5eee47",
   "metadata": {},
   "outputs": [
    {
     "name": "stdout",
     "output_type": "stream",
     "text": [
      "         0    1    2    3    4    5    6    7    8    9  ...  1015  1016  \\\n",
      "0      255  255  255  255  255  255  255  255  255  255  ...   255   255   \n",
      "1      255  255  255  255  255  255  255  255  255  255  ...   255   255   \n",
      "2      255  255  255  255  255  255  255  255  255  255  ...   255   255   \n",
      "3      255  255  255  255  255  255  255  255  255  255  ...   255   255   \n",
      "4      255  255  255  255  255  255  255  255  255  255  ...   255   255   \n",
      "...    ...  ...  ...  ...  ...  ...  ...  ...  ...  ...  ...   ...   ...   \n",
      "13795  255  255  255  255  255  255  255  255  255  255  ...   255   255   \n",
      "13796  255  255  255  255  255  255  255  255  255  255  ...   255   255   \n",
      "13797  255  255  255  255  255  255  255  255  255  255  ...   255   255   \n",
      "13798  255  255  255  255  255  255  255  255  255  255  ...   255   255   \n",
      "13799  255  255  255  255  255  255  255  255  255  255  ...   255   255   \n",
      "\n",
      "       1017  1018  1019  1020  1021  1022  1023            Labels  \n",
      "0       255   255   255   255   255   255   255  character_10_yna  \n",
      "1       255   255   255   255   255   255   255  character_10_yna  \n",
      "2       255   255   255   255   255   255   255  character_10_yna  \n",
      "3       255   255   255   255   255   255   255  character_10_yna  \n",
      "4       255   255   255   255   255   255   255  character_10_yna  \n",
      "...     ...   ...   ...   ...   ...   ...   ...               ...  \n",
      "13795   255   255   255   255   255   255   255           digit_9  \n",
      "13796   255   255   255   255   255   255   255           digit_9  \n",
      "13797   255   255   255   255   255   255   255           digit_9  \n",
      "13798   255   255   255   255   255   255   255           digit_9  \n",
      "13799   255   255   255   255   255   255   255           digit_9  \n",
      "\n",
      "[13800 rows x 1025 columns]\n"
     ]
    }
   ],
   "source": [
    "import os\n",
    "from PIL import Image, ImageChops\n",
    "import numpy as np\n",
    "import pandas as pd\n",
    "\n",
    "flattened_images = []\n",
    "labels = []\n",
    "\n",
    "Test_File_Directory = '/home/jeff/Downloads/archive/DevanagariHandwrittenCharacterDataset/Test'\n",
    "\n",
    "# Loop through each file in the test file\n",
    "for folders in os.listdir(Test_File_Directory):\n",
    "\n",
    "    internal_folder_path = os.path.join(Test_File_Directory, folders) # Define the file location for each subfolder\n",
    "    \n",
    "    for image in os.listdir(internal_folder_path): # Loop through individual images in the said subfolder\n",
    "        \n",
    "        img_path = os.path.join(internal_folder_path, image) #Define the image path of the individual images we iterate over\n",
    "    \n",
    "        if image.lower().endswith(('.png', '.jpg', '.jpeg', '.bmp', '.gif')):\n",
    "            img = Image.open(img_path)\n",
    "\n",
    "            # Invert the image colors (cuz our dataset is white on black and we need black on white)\n",
    "            inv_img = ImageChops.invert(img)\n",
    "        \n",
    "            # Convert image to numpy array and flatten it\n",
    "            img_array = np.array(inv_img)\n",
    "            img_flatten = img_array.flatten()\n",
    "\n",
    "            flattened_images.append(img_flatten)\n",
    "            labels.append(folders) # HERE we are taking the labels of the individual pixels and putting them in a list for now\n",
    "            \n",
    "image_df = pd.DataFrame(flattened_images)\n",
    "inv_img.show()\n",
    "\n",
    "image_df['Labels'] = labels\n",
    "print(image_df)"
   ]
  },
  {
   "cell_type": "code",
   "execution_count": 2,
   "id": "95f06899-2b2a-48bf-b98e-7a62d1456d1f",
   "metadata": {},
   "outputs": [
    {
     "name": "stdout",
     "output_type": "stream",
     "text": [
      "DataFrame has been saved to 'test_images_of_all.csv'.\n"
     ]
    }
   ],
   "source": [
    "image_df['Image Index'] = pd.Series(range(1, len(image_df)))\n",
    "\n",
    "# Export the DataFrame to a CSV file\n",
    "image_df.to_csv('test_images_of_all.csv', index=False)\n",
    "print(\"DataFrame has been saved to 'test_images_of_all.csv'.\")\n"
   ]
  },
  {
   "cell_type": "code",
   "execution_count": 5,
   "id": "b73cb849-1e36-41db-b6ef-5b9a20471926",
   "metadata": {},
   "outputs": [
    {
     "name": "stdout",
     "output_type": "stream",
     "text": [
      "Label: character_13_daa\n"
     ]
    },
    {
     "data": {
      "text/plain": [
       "(13800, 1026)"
      ]
     },
     "execution_count": 5,
     "metadata": {},
     "output_type": "execute_result"
    },
    {
     "name": "stderr",
     "output_type": "stream",
     "text": [
      "\n",
      "(eog:71767): EOG-WARNING **: 17:30:47.890: Generating thumbnail failed: Child process exited with code 1\n",
      "\n",
      "(eog:71767): EOG-WARNING **: 17:30:47.891: Thumbnail creation failed\n",
      "\n",
      "(eog:71767): EOG-WARNING **: 17:30:47.891: Thumbnail creation failed\n",
      "\n",
      "(eog:71767): EOG-WARNING **: 17:30:51.293: Generating thumbnail failed: Child process exited with code 1\n",
      "\n",
      "(eog:71767): EOG-WARNING **: 17:30:51.294: Thumbnail creation failed\n",
      "\n",
      "(eog:71767): EOG-WARNING **: 17:30:51.294: Thumbnail creation failed\n"
     ]
    }
   ],
   "source": [
    "# This is to check the labels, note the value of the last column (the number) and plug them into the pixel_intensities var and \n",
    "#the label var too\n",
    "\n",
    "\n",
    "label = image_df.iloc[997, -2]  # Get the label (last column)\n",
    "\n",
    "# Extract the pixel intensities for the required row (excluding the label and the index which are the last 2 columns)\n",
    "pixel_intensities = image_df.iloc[997, :-2].values  # Get pixel values excluding the last column\n",
    "\n",
    "image_array = pixel_intensities.reshape(32, 32) \n",
    "\n",
    "# Convert to a Pillow image\n",
    "image = Image.fromarray(image_array.astype(np.uint8))  # Convert to uint8 for image\n",
    "\n",
    "# Display the image using Pillow\n",
    "image.show()\n",
    "\n",
    "# Display the label\n",
    "print(f\"Label: {label}\")\n",
    "\n",
    "image_df.shape"
   ]
  },
  {
   "cell_type": "code",
   "execution_count": null,
   "id": "478bdd03-b6c0-46da-b965-6f08943c3290",
   "metadata": {},
   "outputs": [],
   "source": []
  }
 ],
 "metadata": {
  "kernelspec": {
   "display_name": "Python 3 (ipykernel)",
   "language": "python",
   "name": "python3"
  },
  "language_info": {
   "codemirror_mode": {
    "name": "ipython",
    "version": 3
   },
   "file_extension": ".py",
   "mimetype": "text/x-python",
   "name": "python",
   "nbconvert_exporter": "python",
   "pygments_lexer": "ipython3",
   "version": "3.10.16"
  }
 },
 "nbformat": 4,
 "nbformat_minor": 5
}
